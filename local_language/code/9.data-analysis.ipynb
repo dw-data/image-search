{
 "cells": [
  {
   "cell_type": "markdown",
   "metadata": {},
   "source": [
    "# 9. Data analysis"
   ]
  },
  {
   "cell_type": "markdown",
   "metadata": {},
   "source": [
    "After manually reviewing all entries marked as positive and a representative sample of the entries marked as negative, I feel confident enough to start doing some proper data analysis."
   ]
  },
  {
   "cell_type": "markdown",
   "metadata": {},
   "source": [
    "#### Importing packages"
   ]
  },
  {
   "cell_type": "code",
   "execution_count": 1,
   "metadata": {},
   "outputs": [],
   "source": [
    "import pandas as pd\n",
    "import json\n",
    "import glob\n",
    "import geopandas as gpd\n",
    "import json\n",
    "import os\n",
    "%matplotlib inline"
   ]
  },
  {
   "cell_type": "markdown",
   "metadata": {},
   "source": [
    "#### Data"
   ]
  },
  {
   "cell_type": "code",
   "execution_count": 2,
   "metadata": {},
   "outputs": [],
   "source": [
    "df = pd.read_csv(\"../output/dataset/complete-data-classified.csv\")"
   ]
  },
  {
   "cell_type": "markdown",
   "metadata": {},
   "source": [
    "#### Configs"
   ]
  },
  {
   "cell_type": "code",
   "execution_count": 3,
   "metadata": {},
   "outputs": [],
   "source": [
    "pd.set_option('display.max_rows', 500)"
   ]
  },
  {
   "cell_type": "markdown",
   "metadata": {},
   "source": [
    "## How many results do we have?"
   ]
  },
  {
   "cell_type": "code",
   "execution_count": 4,
   "metadata": {},
   "outputs": [
    {
     "data": {
      "text/plain": [
       "1000"
      ]
     },
     "execution_count": 4,
     "metadata": {},
     "output_type": "execute_result"
    }
   ],
   "source": [
    "df.shape[0]"
   ]
  },
  {
   "cell_type": "markdown",
   "metadata": {},
   "source": [
    "## Checking collection succesfulness rate"
   ]
  },
  {
   "cell_type": "markdown",
   "metadata": {},
   "source": [
    "How many valid search results do we have for each country?"
   ]
  },
  {
   "cell_type": "markdown",
   "metadata": {},
   "source": [
    "Notice that the countries of Dominica and Dominican Republic had the same reuslts, since they were produced by the same search query (\"dominican women\")"
   ]
  },
  {
   "cell_type": "code",
   "execution_count": 5,
   "metadata": {
    "scrolled": false
   },
   "outputs": [
    {
     "data": {
      "text/plain": [
       "search_query\n",
       "deutsche frauen         100\n",
       "femmes françaises       100\n",
       "mujeres colombianas     100\n",
       "mujeres dominicanas     100\n",
       "mulheres brasileiras    100\n",
       "pinay                   100\n",
       "české ženy              100\n",
       "жінки з україни         100\n",
       "русские женщины         100\n",
       "ผู้หญิงไทย              100\n",
       "Name: search_query, dtype: int64"
      ]
     },
     "execution_count": 5,
     "metadata": {},
     "output_type": "execute_result"
    }
   ],
   "source": [
    "df.groupby(\"search_query\").search_query.count()"
   ]
  },
  {
   "cell_type": "markdown",
   "metadata": {},
   "source": [
    "How many images were succesfully downloaded for each nation?"
   ]
  },
  {
   "cell_type": "code",
   "execution_count": 6,
   "metadata": {
    "scrolled": false
   },
   "outputs": [
    {
     "data": {
      "text/plain": [
       "search_query\n",
       "ผู้หญิงไทย              100\n",
       "русские женщины         100\n",
       "жінки з україни         100\n",
       "české ženy              100\n",
       "pinay                   100\n",
       "mulheres brasileiras    100\n",
       "mujeres dominicanas     100\n",
       "mujeres colombianas     100\n",
       "femmes françaises       100\n",
       "deutsche frauen          98\n",
       "Name: img_path, dtype: int64"
      ]
     },
     "execution_count": 6,
     "metadata": {},
     "output_type": "execute_result"
    }
   ],
   "source": [
    "df.groupby(\"search_query\").img_path.count().sort_values(ascending=False)"
   ]
  },
  {
   "cell_type": "markdown",
   "metadata": {},
   "source": [
    "And how many title tags were succesfully retrieved?"
   ]
  },
  {
   "cell_type": "code",
   "execution_count": 7,
   "metadata": {
    "scrolled": false
   },
   "outputs": [
    {
     "data": {
      "text/plain": [
       "search_query\n",
       "русские женщины         100\n",
       "жінки з україни         100\n",
       "české ženy              100\n",
       "pinay                   100\n",
       "mulheres brasileiras    100\n",
       "mujeres dominicanas     100\n",
       "mujeres colombianas     100\n",
       "femmes françaises       100\n",
       "ผู้หญิงไทย               99\n",
       "deutsche frauen          98\n",
       "Name: full_title, dtype: int64"
      ]
     },
     "execution_count": 7,
     "metadata": {},
     "output_type": "execute_result"
    }
   ],
   "source": [
    "df.groupby(\"search_query\").full_title.count().sort_values(ascending=False)"
   ]
  },
  {
   "cell_type": "markdown",
   "metadata": {},
   "source": [
    "How many entries have both images and titles succesfully extracted, by country?"
   ]
  },
  {
   "cell_type": "code",
   "execution_count": 8,
   "metadata": {},
   "outputs": [
    {
     "data": {
      "text/plain": [
       "search_query\n",
       "русские женщины         100\n",
       "жінки з україни         100\n",
       "české ženy              100\n",
       "pinay                   100\n",
       "mulheres brasileiras    100\n",
       "mujeres dominicanas     100\n",
       "mujeres colombianas     100\n",
       "femmes françaises       100\n",
       "ผู้หญิงไทย               99\n",
       "deutsche frauen          97\n",
       "Name: img_path, dtype: int64"
      ]
     },
     "execution_count": 8,
     "metadata": {},
     "output_type": "execute_result"
    }
   ],
   "source": [
    "df[~(df.img_path.isna()) & ~(df.full_title.isna())].groupby(\"search_query\").img_path.count().sort_values(ascending=False)"
   ]
  },
  {
   "cell_type": "markdown",
   "metadata": {},
   "source": [
    "## Quantifying racy imagery"
   ]
  },
  {
   "cell_type": "markdown",
   "metadata": {},
   "source": [
    "First, let's determine how many images we have in total and how many were tagged as racy."
   ]
  },
  {
   "cell_type": "code",
   "execution_count": 9,
   "metadata": {},
   "outputs": [],
   "source": [
    "def quantify(df, eval_col, conditions, descriptions):\n",
    "    '''\n",
    "    Prints how many rows of the dataframe met\n",
    "    each specified condition and their human-\n",
    "    readable descrpitions.\n",
    "    \n",
    "    Parameteres:\n",
    "    \n",
    "    df -> A pandas daframe\n",
    "    eval_col -> The column which will be evaluated\n",
    "    condition -> A lambda function to be applied in that column, which will return either True or False\n",
    "    description -> A human-language description of the condition checked\n",
    "    '''\n",
    "    \n",
    "    assert len(conditions) == len(descriptions)\n",
    "    \n",
    "    for condition, description in zip(conditions, descriptions):\n",
    "        \n",
    "        df[\"condition_bool\"] = df[eval_col].apply(condition)\n",
    "        count = df[df.condition_bool].shape[0]\n",
    "        \n",
    "        print(f\"{count} {description}\")"
   ]
  },
  {
   "cell_type": "code",
   "execution_count": 10,
   "metadata": {},
   "outputs": [
    {
     "name": "stdout",
     "output_type": "stream",
     "text": [
      "132 rows have racy images\n",
      "868 rows don't have racy images\n"
     ]
    }
   ],
   "source": [
    "quantify(df=df, \n",
    "         eval_col=\"racy_bool\", \n",
    "         conditions=[lambda x: x is True, lambda x: x is False], # This checks the value in the boolean column\n",
    "         descriptions=[\"rows have racy images\", \"rows don't have racy images\"])"
   ]
  },
  {
   "cell_type": "markdown",
   "metadata": {},
   "source": [
    "This being said, let's take a look at the countries that have a higher percentage of images tagged as racy."
   ]
  },
  {
   "cell_type": "code",
   "execution_count": 11,
   "metadata": {},
   "outputs": [],
   "source": [
    "def get_percentages(df, eval_col, condition, group_col=None, join_cols=None, normalize=True, zeroes=True):\n",
    "    '''\n",
    "    Gets the ammount of rows in a dataframe\n",
    "    that meet a given condition, with\n",
    "    additional support for groupbys.\n",
    "    \n",
    "    Parameters:\n",
    "    \n",
    "    df -> The pandas daframe to be aggregated\n",
    "    eval_col -> The column whose value will be evaluated.\n",
    "    condition -> A boolean lambda funcion that will be applied to the values of the evaluate_column\n",
    "    group_col -> The columns by which the dataframe can be grouped by. Optional.\n",
    "    join_cols -> Whether or not the resulting dataframe should be joined with other informative columns\n",
    "    normalize -> Pass 'False' to have an absolute count instead\n",
    "    dropna -> Whether or not an counts should be included in the resutling dataframe\n",
    "    zeroes -> Whether or not the resulting dataframe should include countries with zero value counts for the condition\n",
    "    '''\n",
    "\n",
    "    if group_col:\n",
    "                    \n",
    "            percentages = (df.set_index(group_col)\n",
    "                           [eval_col]\n",
    "                           .apply(condition)\n",
    "                           .groupby(level=0)\n",
    "                           .value_counts(normalize=normalize)\n",
    "                           .to_frame()\n",
    "                           .rename(columns={eval_col: f'percentage_{eval_col}'})\n",
    "                           .reset_index())\n",
    "\n",
    "            percentages = percentages[percentages[eval_col]==True].reset_index(drop=True)\n",
    "            percentages = percentages.drop(columns=eval_col)\n",
    "            percentages = percentages.sort_values(by=f'percentage_{eval_col}', ascending=False)\n",
    "\n",
    "        \n",
    "    else:\n",
    "        \n",
    "        percentages = (df[eval_col]\n",
    "                       .apply(condition)\n",
    "                       .value_counts(normalize=normalize)\n",
    "                       .to_frame()\n",
    "                       .rename(columns={eval_col: f'percentage_{eval_col}'})\n",
    "                       .reset_index()\n",
    "                       .rename(columns={'index': 'bool'}))\n",
    "        \n",
    "        percentages = percentages[percentages['bool']==True].reset_index(drop=True)\n",
    "        percentages = percentages.drop(columns='bool')\n",
    "        \n",
    "        \n",
    "    if zeroes:\n",
    "        \n",
    "        zero_count_items = df[~df[group_col].isin(percentages[group_col])]\n",
    "        zero_count_items = zero_count_items[group_col].unique()\n",
    "        \n",
    "        zero_count_items =  [ {   group_col: item,\n",
    "                                  f\"percentage_{eval_col}\": 0\n",
    "                              } for item in zero_count_items ]\n",
    "        \n",
    "        zero_count_items = pd.DataFrame(zero_count_items)\n",
    "        \n",
    "        percentages = pd.concat([percentages, zero_count_items])\n",
    "        \n",
    "        \n",
    "    if join_cols:\n",
    "        \n",
    "        join_cols.append(group_col)\n",
    "        \n",
    "        info = (df.drop_duplicates(subset=group_col)\n",
    "               [join_cols])\n",
    "        \n",
    "        percentages = percentages.merge(info, on=group_col, how='left')\n",
    "        \n",
    "\n",
    "        \n",
    "    return percentages"
   ]
  },
  {
   "cell_type": "markdown",
   "metadata": {},
   "source": [
    "#### All countries"
   ]
  },
  {
   "cell_type": "code",
   "execution_count": 12,
   "metadata": {
    "scrolled": false
   },
   "outputs": [
    {
     "data": {
      "text/html": [
       "<div>\n",
       "<style scoped>\n",
       "    .dataframe tbody tr th:only-of-type {\n",
       "        vertical-align: middle;\n",
       "    }\n",
       "\n",
       "    .dataframe tbody tr th {\n",
       "        vertical-align: top;\n",
       "    }\n",
       "\n",
       "    .dataframe thead th {\n",
       "        text-align: right;\n",
       "    }\n",
       "</style>\n",
       "<table border=\"1\" class=\"dataframe\">\n",
       "  <thead>\n",
       "    <tr style=\"text-align: right;\">\n",
       "      <th></th>\n",
       "      <th>country_or_area</th>\n",
       "      <th>percentage_racy_bool</th>\n",
       "      <th>iso_a3</th>\n",
       "    </tr>\n",
       "  </thead>\n",
       "  <tbody>\n",
       "    <tr>\n",
       "      <th>0</th>\n",
       "      <td>Colombia</td>\n",
       "      <td>0.27</td>\n",
       "      <td>COL</td>\n",
       "    </tr>\n",
       "    <tr>\n",
       "      <th>1</th>\n",
       "      <td>Philippines</td>\n",
       "      <td>0.27</td>\n",
       "      <td>PHL</td>\n",
       "    </tr>\n",
       "    <tr>\n",
       "      <th>2</th>\n",
       "      <td>Dominica</td>\n",
       "      <td>0.22</td>\n",
       "      <td>DMA</td>\n",
       "    </tr>\n",
       "    <tr>\n",
       "      <th>3</th>\n",
       "      <td>Czechia</td>\n",
       "      <td>0.12</td>\n",
       "      <td>CZE</td>\n",
       "    </tr>\n",
       "    <tr>\n",
       "      <th>4</th>\n",
       "      <td>Thailand</td>\n",
       "      <td>0.12</td>\n",
       "      <td>THA</td>\n",
       "    </tr>\n",
       "    <tr>\n",
       "      <th>5</th>\n",
       "      <td>France</td>\n",
       "      <td>0.10</td>\n",
       "      <td>FRA</td>\n",
       "    </tr>\n",
       "    <tr>\n",
       "      <th>6</th>\n",
       "      <td>Brazil</td>\n",
       "      <td>0.09</td>\n",
       "      <td>BRA</td>\n",
       "    </tr>\n",
       "    <tr>\n",
       "      <th>7</th>\n",
       "      <td>Russian Federation</td>\n",
       "      <td>0.07</td>\n",
       "      <td>RUS</td>\n",
       "    </tr>\n",
       "    <tr>\n",
       "      <th>8</th>\n",
       "      <td>Germany</td>\n",
       "      <td>0.06</td>\n",
       "      <td>DEU</td>\n",
       "    </tr>\n",
       "    <tr>\n",
       "      <th>9</th>\n",
       "      <td>Ukraine</td>\n",
       "      <td>0.00</td>\n",
       "      <td>UKR</td>\n",
       "    </tr>\n",
       "  </tbody>\n",
       "</table>\n",
       "</div>"
      ],
      "text/plain": [
       "      country_or_area  percentage_racy_bool iso_a3\n",
       "0            Colombia                  0.27    COL\n",
       "1         Philippines                  0.27    PHL\n",
       "2            Dominica                  0.22    DMA\n",
       "3             Czechia                  0.12    CZE\n",
       "4            Thailand                  0.12    THA\n",
       "5              France                  0.10    FRA\n",
       "6              Brazil                  0.09    BRA\n",
       "7  Russian Federation                  0.07    RUS\n",
       "8             Germany                  0.06    DEU\n",
       "9             Ukraine                  0.00    UKR"
      ]
     },
     "execution_count": 12,
     "metadata": {},
     "output_type": "execute_result"
    }
   ],
   "source": [
    "get_percentages(df, \n",
    "                eval_col='racy_bool', \n",
    "                condition=lambda x: x is True, # This is simply checking if the boolean is true. We can pass any other condition, though\n",
    "                group_col='country_or_area',\n",
    "                join_cols=['iso_a3'])"
   ]
  },
  {
   "cell_type": "markdown",
   "metadata": {
    "scrolled": true
   },
   "source": [
    "# Comparison with regular english searches"
   ]
  },
  {
   "cell_type": "markdown",
   "metadata": {},
   "source": [
    "I want to compare the results in English with the resuls in local languages."
   ]
  },
  {
   "cell_type": "code",
   "execution_count": 15,
   "metadata": {},
   "outputs": [],
   "source": [
    "eng_results = pd.read_csv(\"../../output/dataset/complete-data-manually-checked.csv\")"
   ]
  },
  {
   "cell_type": "code",
   "execution_count": 16,
   "metadata": {},
   "outputs": [],
   "source": [
    "safesearch_local = get_percentages(df, \n",
    "                    eval_col='racy_bool', \n",
    "                    condition=lambda x: x is True, # This is simply checking if the boolean is true. We can pass any other condition, though\n",
    "                    group_col='country_or_area',\n",
    "                    join_cols=['iso_a3'])"
   ]
  },
  {
   "cell_type": "code",
   "execution_count": 17,
   "metadata": {},
   "outputs": [],
   "source": [
    "safesearch_eng = get_percentages(eng_results, \n",
    "                    eval_col='racy_bool', \n",
    "                    condition=lambda x: x is True, # This is simply checking if the boolean is true. We can pass any other condition, though\n",
    "                    group_col='country_or_area',\n",
    "                    join_cols=['iso_a3'])"
   ]
  },
  {
   "cell_type": "code",
   "execution_count": 18,
   "metadata": {},
   "outputs": [],
   "source": [
    "merged = safesearch_local.merge(safesearch_eng, on=[\"country_or_area\", \"iso_a3\"], suffixes=([\"_local\", \"_eng\"]))"
   ]
  },
  {
   "cell_type": "code",
   "execution_count": 19,
   "metadata": {},
   "outputs": [
    {
     "data": {
      "text/html": [
       "<div>\n",
       "<style scoped>\n",
       "    .dataframe tbody tr th:only-of-type {\n",
       "        vertical-align: middle;\n",
       "    }\n",
       "\n",
       "    .dataframe tbody tr th {\n",
       "        vertical-align: top;\n",
       "    }\n",
       "\n",
       "    .dataframe thead th {\n",
       "        text-align: right;\n",
       "    }\n",
       "</style>\n",
       "<table border=\"1\" class=\"dataframe\">\n",
       "  <thead>\n",
       "    <tr style=\"text-align: right;\">\n",
       "      <th></th>\n",
       "      <th>country_or_area</th>\n",
       "      <th>percentage_racy_bool_local</th>\n",
       "      <th>iso_a3</th>\n",
       "      <th>percentage_racy_bool_eng</th>\n",
       "    </tr>\n",
       "  </thead>\n",
       "  <tbody>\n",
       "    <tr>\n",
       "      <th>0</th>\n",
       "      <td>Colombia</td>\n",
       "      <td>0.27</td>\n",
       "      <td>COL</td>\n",
       "      <td>0.34</td>\n",
       "    </tr>\n",
       "    <tr>\n",
       "      <th>1</th>\n",
       "      <td>Philippines</td>\n",
       "      <td>0.27</td>\n",
       "      <td>PHL</td>\n",
       "      <td>0.19</td>\n",
       "    </tr>\n",
       "    <tr>\n",
       "      <th>2</th>\n",
       "      <td>Dominica</td>\n",
       "      <td>0.22</td>\n",
       "      <td>DMA</td>\n",
       "      <td>0.41</td>\n",
       "    </tr>\n",
       "    <tr>\n",
       "      <th>3</th>\n",
       "      <td>Czechia</td>\n",
       "      <td>0.12</td>\n",
       "      <td>CZE</td>\n",
       "      <td>0.18</td>\n",
       "    </tr>\n",
       "    <tr>\n",
       "      <th>4</th>\n",
       "      <td>Thailand</td>\n",
       "      <td>0.12</td>\n",
       "      <td>THA</td>\n",
       "      <td>0.16</td>\n",
       "    </tr>\n",
       "    <tr>\n",
       "      <th>5</th>\n",
       "      <td>France</td>\n",
       "      <td>0.10</td>\n",
       "      <td>FRA</td>\n",
       "      <td>0.08</td>\n",
       "    </tr>\n",
       "    <tr>\n",
       "      <th>6</th>\n",
       "      <td>Brazil</td>\n",
       "      <td>0.09</td>\n",
       "      <td>BRA</td>\n",
       "      <td>0.41</td>\n",
       "    </tr>\n",
       "    <tr>\n",
       "      <th>7</th>\n",
       "      <td>Russian Federation</td>\n",
       "      <td>0.07</td>\n",
       "      <td>RUS</td>\n",
       "      <td>0.11</td>\n",
       "    </tr>\n",
       "    <tr>\n",
       "      <th>8</th>\n",
       "      <td>Germany</td>\n",
       "      <td>0.06</td>\n",
       "      <td>DEU</td>\n",
       "      <td>0.05</td>\n",
       "    </tr>\n",
       "    <tr>\n",
       "      <th>9</th>\n",
       "      <td>Ukraine</td>\n",
       "      <td>0.00</td>\n",
       "      <td>UKR</td>\n",
       "      <td>0.17</td>\n",
       "    </tr>\n",
       "  </tbody>\n",
       "</table>\n",
       "</div>"
      ],
      "text/plain": [
       "      country_or_area  percentage_racy_bool_local iso_a3  \\\n",
       "0            Colombia                        0.27    COL   \n",
       "1         Philippines                        0.27    PHL   \n",
       "2            Dominica                        0.22    DMA   \n",
       "3             Czechia                        0.12    CZE   \n",
       "4            Thailand                        0.12    THA   \n",
       "5              France                        0.10    FRA   \n",
       "6              Brazil                        0.09    BRA   \n",
       "7  Russian Federation                        0.07    RUS   \n",
       "8             Germany                        0.06    DEU   \n",
       "9             Ukraine                        0.00    UKR   \n",
       "\n",
       "   percentage_racy_bool_eng  \n",
       "0                      0.34  \n",
       "1                      0.19  \n",
       "2                      0.41  \n",
       "3                      0.18  \n",
       "4                      0.16  \n",
       "5                      0.08  \n",
       "6                      0.41  \n",
       "7                      0.11  \n",
       "8                      0.05  \n",
       "9                      0.17  "
      ]
     },
     "metadata": {},
     "output_type": "display_data"
    }
   ],
   "source": [
    "display(merged)"
   ]
  },
  {
   "cell_type": "code",
   "execution_count": 20,
   "metadata": {},
   "outputs": [],
   "source": [
    "merged.to_csv(\"../output/dataset/comparison-local-eng.csv\", index=False)"
   ]
  }
 ],
 "metadata": {
  "kernelspec": {
   "display_name": "Python 3",
   "language": "python",
   "name": "python3"
  },
  "language_info": {
   "codemirror_mode": {
    "name": "ipython",
    "version": 3
   },
   "file_extension": ".py",
   "mimetype": "text/x-python",
   "name": "python",
   "nbconvert_exporter": "python",
   "pygments_lexer": "ipython3",
   "version": "3.6.12"
  }
 },
 "nbformat": 4,
 "nbformat_minor": 4
}
