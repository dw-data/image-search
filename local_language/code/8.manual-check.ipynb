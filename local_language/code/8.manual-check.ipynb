{
 "cells": [
  {
   "cell_type": "markdown",
   "metadata": {},
   "source": [
    "# 8. Manual check"
   ]
  },
  {
   "cell_type": "markdown",
   "metadata": {},
   "source": [
    "We need to be sure about the images and titles that we tagged as positive in the previous automatic proccesses. In order to do so, we need to manually verify those entries. This will be done through manual review in this notebook."
   ]
  },
  {
   "cell_type": "code",
   "execution_count": 1,
   "metadata": {},
   "outputs": [],
   "source": [
    "import pandas as pd\n",
    "import json\n",
    "import glob\n",
    "import re\n",
    "from IPython.display import Image, clear_output, Markdown"
   ]
  },
  {
   "cell_type": "code",
   "execution_count": 2,
   "metadata": {},
   "outputs": [],
   "source": [
    "df = pd.read_csv(\"../output/dataset/3.complete-data-classified.csv\")"
   ]
  },
  {
   "cell_type": "markdown",
   "metadata": {},
   "source": [
    "We will check the pairs manually in a loop and save the results to JSON files."
   ]
  },
  {
   "cell_type": "code",
   "execution_count": 3,
   "metadata": {},
   "outputs": [],
   "source": [
    "def check_positive_imgs(df):\n",
    "    '''\n",
    "    Prints all images marked as racy in the dataframe\n",
    "    and asks if the user agrees with the classification.\n",
    "    Saves the answer in a JSON file.\n",
    "    \n",
    "    This function is used mainly to take a look at all\n",
    "    pictures and see if there are visible systematic\n",
    "    biases in Google's algorithm that could render\n",
    "    the whole analysis useless.\n",
    "    \n",
    "    I do understand that this procedure is very subjective,\n",
    "    that it's very hard to define what is racy and what is not\n",
    "    and that this sort of manual classification is permeated by sexism.\n",
    "    \n",
    "    I hope, however, to  get a better grasp of the dataset by doing so,\n",
    "    which will aid in the reporting. \n",
    "    '''\n",
    "    \n",
    "    # Selects racy images\n",
    "    to_check = df[df.racy_bool]\n",
    "    \n",
    "    # Filter out images that have already been checked\n",
    "    \n",
    "    #### Create the path in which the file should be salved\n",
    "    to_check[\"manual_check_path\"] = (\"../output/positives_manual_check/imgs/\" + \n",
    "                                     to_check.search_query.str.replace(\" \",\"-\") + \n",
    "                                     \"-\" + to_check.position.astype(str) +\n",
    "                                     \".json\")\n",
    "    \n",
    "    #### Check if it's already there\n",
    "    checked_files = glob.glob(\"../output/positives_manual_check/imgs/*.json\")\n",
    "    to_check = to_check[~to_check.manual_check_path.isin(checked_files)]\n",
    "        \n",
    "    for index, row in to_check.iterrows():\n",
    "        \n",
    "        # Store evaluation in a dictionary\n",
    "        data = {}\n",
    "        \n",
    "        try:\n",
    "            # Display image and ask for evaluation\n",
    "            display(f\"{row.search_query} {row.position}\")\n",
    "            display(Image(row.img_path, width=600))\n",
    "        except ValueError:\n",
    "            display(\"Display error\")\n",
    "            clear_output()\n",
    "            continue\n",
    "        \n",
    "        answer = \"\"\n",
    "        while answer not in (\"y\", \"n\"):\n",
    "            answer = input(\"Do you agree that this image is racy? (y/n)\")\n",
    "        \n",
    "        data[\"manual_check\"] = True if answer == \"y\" else False\n",
    "            \n",
    "        clear_output()\n",
    "\n",
    "        # Save both as JSON\n",
    "        with open(row.manual_check_path, \"w+\") as f:\n",
    "            json.dump(data, f, indent=4)\n",
    "        \n",
    "        fp = f\"{row.search_query.replace(' ', '-')}-{row.position}.json\""
   ]
  },
  {
   "cell_type": "code",
   "execution_count": 4,
   "metadata": {
    "scrolled": false
   },
   "outputs": [],
   "source": [
    "check_positive_imgs(df)"
   ]
  },
  {
   "cell_type": "markdown",
   "metadata": {},
   "source": [
    "We will also check a samall sample of negative images to see if we can find similar misclassification patterns in the items not marked as racy."
   ]
  },
  {
   "cell_type": "code",
   "execution_count": 5,
   "metadata": {},
   "outputs": [],
   "source": [
    "def sample_img_check(df, frac, subset):\n",
    "    '''\n",
    "    Randomly selects a percentage of rows\n",
    "    from the dataframe, displays their\n",
    "    images and asks the user for input\n",
    "    regarding the accuracy of CloudVision\n",
    "    SafeSearch results.\n",
    "    \n",
    "    As before, I do understand that this procedure \n",
    "    is very subjective and that it's very hard to define \n",
    "    what is racy and what is not. \n",
    "    \n",
    "    Since the subset to check is smaller this time,\n",
    "    we will save it directly to a CSV file.\n",
    "    \n",
    "    Parameters:\n",
    "    \n",
    "    df -> The dataframe to be checked\n",
    "    frac -> The percentage of rows to be verified\n",
    "    subset -> The labels that we will want to consider. Can be 'positive' or 'negative'\n",
    "    '''\n",
    "        \n",
    "    # Select only rows that have real, downloaded images\n",
    "    df = df[~(df.racy.isna())]\n",
    "    df = df[~(df.img_path.str.contains(\"charset\"))]\n",
    "    \n",
    "    if subset == 'positive':\n",
    "        df = df[df.racy_bool]\n",
    "    elif subset == 'negative':\n",
    "        df = df[~df.racy_bool]\n",
    "    else:\n",
    "        raise ValueError\n",
    "\n",
    "    # Ensures that the output path exists\n",
    "    outpath = f\"../output/negatives_manual_check/imgs/dataset/sample-check-{subset}.csv\"\n",
    "    with open(outpath, \"w+\") as f:\n",
    "        pass\n",
    "        \n",
    "    # Keep only rows of interest to optimize behavior\n",
    "    df = df[[\"img_path\", \"racy\"]]\n",
    "\n",
    "    random_state = 4121 # A fixed seed to ensure reproducibility\n",
    "    sample = df.sample(frac=frac, random_state=random_state)\n",
    "    \n",
    "    # Placeholder for veredict\n",
    "    sample[\"classification\"] = None\n",
    "    \n",
    "    for index, row in sample.iterrows():\n",
    "        \n",
    "        if row.racy in [\"LIKELY\", \"VERY_LIKELY\"]:\n",
    "            classification = \"POSITIVE\"\n",
    "        elif row.racy in [\"POSSIBLE\", \"UNLIKELY\", \"VERY_UNLIKELY\"]:\n",
    "            classification = \"NEGATIVE\"\n",
    "        \n",
    "        try:\n",
    "            display(Image(row.img_path, width=300, height=300))        \n",
    "            print(f\"According to our criteria regardind Cloud Vision SafeSearch results, this image is a {classification} for racy\")\n",
    "        except ValueError:\n",
    "            sample.loc[index, 'classification'] = 'display_error'\n",
    "            continue\n",
    "            \n",
    "        \n",
    "        answer = \"\"\n",
    "        while answer not in [\"t\", \"f\"]:\n",
    "            answer = input(\"Do you agree? Type 't', 'f'\\n\")\n",
    "            answer = answer.lower()\n",
    "        \n",
    "        csv_row = f\"{row.img_path},{row.racy},{answer}\\n\"\n",
    "        with open(outpath, 'a') as fd:\n",
    "            fd.write(csv_row)\n",
    "\n",
    "        clear_output()\n",
    "        \n",
    "            \n",
    "    return"
   ]
  },
  {
   "cell_type": "code",
   "execution_count": 6,
   "metadata": {},
   "outputs": [],
   "source": [
    "#sample_img_check(df, .02, subset='negative')"
   ]
  },
  {
   "cell_type": "markdown",
   "metadata": {},
   "source": [
    "And we will check all the titles that have the keywords we highlighted to see if they are actually refering to a sexualizing context. I'll also check the titles of the pictures marked as racy to see if there are websites that I'm missing, since they don't use the same exact keywords."
   ]
  },
  {
   "cell_type": "code",
   "execution_count": 7,
   "metadata": {},
   "outputs": [],
   "source": [
    "def check_titles(df):\n",
    "    \n",
    "    '''\n",
    "    Prints each row's title and url, asking the \n",
    "    user if the content display refers to marriage,\n",
    "    dating, sexual tourism or otherwise sexualized\n",
    "    content. \n",
    "    '''\n",
    "    \n",
    "    # Selects both racy images and images with racy keywords\n",
    "    to_check = df[(df.keywords_bool) | (df.racy_bool)]\n",
    "    \n",
    "    # Filter out images that have already been checked\n",
    "    \n",
    "    #### Create the path in which the file should be salved\n",
    "    to_check[\"manual_check_path\"] = (\"../output/positives_manual_check/keywords/\" + \n",
    "                                     to_check.search_query.str.replace(\" \",\"-\") + \n",
    "                                     \"-\" + to_check.position.astype(str) +\n",
    "                                     \".json\")\n",
    "    \n",
    "    #### Check if it's already there\n",
    "    checked_files = glob.glob(\"../output/positives_manual_check/keywords/*.json\")\n",
    "    to_check = to_check[~to_check.manual_check_path.isin(checked_files)]\n",
    "    \n",
    "    total = to_check.shape[0]\n",
    "        \n",
    "    for index, row in to_check.reset_index().iterrows():\n",
    "        \n",
    "        display(f\"{total} remaining pictures\")\n",
    "    \n",
    "        # Store evaluation in a dictionary\n",
    "        data = {}\n",
    "        \n",
    "        # Display image and ask for evaluation\n",
    "        display(f\"{row.search_query} {row.position}\")\n",
    "        display(Markdown(f\"## {row.full_title}\"))\n",
    "        display(Markdown(f\"**{row.source}**\"))\n",
    "        display(Markdown(f\"**{row.link}**\"))\n",
    "        \n",
    "        answer = \"\"\n",
    "        while answer not in (\"y\", \"n\"):\n",
    "            answer = input(\"Do you agree that this website is about dating, marriage, hook-up tourism or otherwise objectifying/sexualizing? (y/n)\")\n",
    "        \n",
    "        data[\"manual_check\"] = True if answer == \"y\" else False\n",
    "        data[\"search_query\"] = row.search_query.replace(\" \",  \"-\")\n",
    "        data[\"position\"] = row.position\n",
    "        \n",
    "        total -= 1\n",
    "        \n",
    "        clear_output()\n",
    "\n",
    "        # Save both as JSON\n",
    "        with open(row.manual_check_path, \"w+\") as f:\n",
    "            json.dump(data, f, indent=4)"
   ]
  },
  {
   "cell_type": "code",
   "execution_count": 8,
   "metadata": {},
   "outputs": [
    {
     "name": "stderr",
     "output_type": "stream",
     "text": [
      "/home/rodrigo/anaconda3/envs/google-images-sexism/lib/python3.6/site-packages/ipykernel_launcher.py:19: SettingWithCopyWarning: \n",
      "A value is trying to be set on a copy of a slice from a DataFrame.\n",
      "Try using .loc[row_indexer,col_indexer] = value instead\n",
      "\n",
      "See the caveats in the documentation: https://pandas.pydata.org/pandas-docs/stable/user_guide/indexing.html#returning-a-view-versus-a-copy\n"
     ]
    }
   ],
   "source": [
    "check_titles(df)"
   ]
  }
 ],
 "metadata": {
  "kernelspec": {
   "display_name": "Python 3",
   "language": "python",
   "name": "python3"
  },
  "language_info": {
   "codemirror_mode": {
    "name": "ipython",
    "version": 3
   },
   "file_extension": ".py",
   "mimetype": "text/x-python",
   "name": "python",
   "nbconvert_exporter": "python",
   "pygments_lexer": "ipython3",
   "version": "3.6.10"
  }
 },
 "nbformat": 4,
 "nbformat_minor": 4
}
