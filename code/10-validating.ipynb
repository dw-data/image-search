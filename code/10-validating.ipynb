{
 "cells": [
  {
   "cell_type": "markdown",
   "metadata": {},
   "source": [
    "# 10. Validating"
   ]
  },
  {
   "cell_type": "markdown",
   "metadata": {},
   "source": [
    "This script will validate the results that our first data collection got by comapring it to data collections done by other people in other points in time."
   ]
  },
  {
   "cell_type": "code",
   "execution_count": 1,
   "metadata": {},
   "outputs": [],
   "source": [
    "import pandas as pd\n",
    "import json\n",
    "import glob\n",
    "import os\n",
    "import numpy as np\n",
    "import re"
   ]
  },
  {
   "cell_type": "code",
   "execution_count": 2,
   "metadata": {},
   "outputs": [],
   "source": [
    "pd.set_option('display.max_rows', 500)"
   ]
  },
  {
   "cell_type": "code",
   "execution_count": 13,
   "metadata": {},
   "outputs": [],
   "source": [
    "def read_jsons(directory):\n",
    "    '''\n",
    "    Reads the JSON files with the Google Image Search results\n",
    "    and stores them into a single dictionary, which is returned.\n",
    "    '''\n",
    "        \n",
    "    # Grabs all the filepaths\n",
    "    files = glob.glob(f\"{directory}/*.json\")\n",
    "    \n",
    "    # Reads all those files and save them into a new dictionary\n",
    "    jsons = { }\n",
    "    for file in files:\n",
    "        \n",
    "        with open(file) as f:\n",
    "            data = json.load(f)\n",
    "            \n",
    "            query = data[\"search_parameters\"]['q']\n",
    "    \n",
    "            results = data[\"images_results\"]\n",
    "                \n",
    "            jsons[query] = results.copy()\n",
    "            \n",
    "    return jsons"
   ]
  },
  {
   "cell_type": "code",
   "execution_count": 14,
   "metadata": {},
   "outputs": [],
   "source": [
    "def make_df(jsons):\n",
    "    '''\n",
    "    Turns a JSON-like array of dictionaries,\n",
    "    produced by the function read_jsons(),\n",
    "    into a single pandas datrame, which is returned.\n",
    "    '''\n",
    "\n",
    "    dfs = []\n",
    "    \n",
    "    # Saves both the values of each dictionary\n",
    "    # and an identifying column with the respective search query\n",
    "    for k,v in jsons.items():\n",
    "        df = pd.DataFrame(v)\n",
    "        df['search_query'] = k\n",
    "        dfs.append(df)\n",
    "\n",
    "    dfs = pd.concat(dfs, ignore_index=True)\n",
    "    \n",
    "    return dfs"
   ]
  },
  {
   "cell_type": "markdown",
   "metadata": {},
   "source": [
    "#### Reads my data in"
   ]
  },
  {
   "cell_type": "code",
   "execution_count": 17,
   "metadata": {},
   "outputs": [],
   "source": [
    "rm_df = make_df(read_jsons(\"../output/search_results/\"))"
   ]
  },
  {
   "cell_type": "markdown",
   "metadata": {},
   "source": [
    "## Comparisons"
   ]
  },
  {
   "cell_type": "code",
   "execution_count": 28,
   "metadata": {},
   "outputs": [],
   "source": [
    "def calculate_overlap(df_a, df_b):\n",
    "    \n",
    "    # Creates unique series for images, urls and titles\n",
    "    a_imgs = pd.Series(df_a[\"original\"].unique())\n",
    "    b_imgs = pd.Series(df_b[\"original\"].unique())\n",
    "    \n",
    "    a_urls = pd.Series(df_a[\"link\"].unique())\n",
    "    b_urls = pd.Series(df_b[\"link\"].unique())\n",
    "        \n",
    "    print(\"How many of the images in df_a are also in df_b?\")\n",
    "    \n",
    "    display(\n",
    "        a_imgs.isin(b_imgs).value_counts(normalize=True)\n",
    "    )\n",
    "    \n",
    "    print(\"How many of the URLs in df_a are also in df_b?\")\n",
    "\n",
    "    display(\n",
    "        a_urls.isin(b_urls).value_counts(normalize=True)\n",
    "    )\n",
    "    \n",
    "    print(\"How many of the images in df_b are also in df_a?\")\n",
    "    \n",
    "    display(\n",
    "        b_imgs.isin(a_imgs).value_counts(normalize=True)\n",
    "    )\n",
    "    \n",
    "    print(\"How many of the URLs in df_b are also in df_a?\")\n",
    "\n",
    "    display(\n",
    "        b_urls.isin(a_urls).value_counts(normalize=True)\n",
    "    )"
   ]
  },
  {
   "cell_type": "markdown",
   "metadata": {},
   "source": [
    "### 1. Gianna Grün"
   ]
  },
  {
   "cell_type": "code",
   "execution_count": 35,
   "metadata": {},
   "outputs": [],
   "source": [
    "gg_df = make_df(read_jsons(\"../validation_output/1/search_results/\"))"
   ]
  },
  {
   "cell_type": "code",
   "execution_count": 36,
   "metadata": {},
   "outputs": [
    {
     "name": "stdout",
     "output_type": "stream",
     "text": [
      "How many of the images in df_a are also in df_b?\n"
     ]
    },
    {
     "data": {
      "text/plain": [
       "True     0.760063\n",
       "False    0.239937\n",
       "dtype: float64"
      ]
     },
     "metadata": {},
     "output_type": "display_data"
    },
    {
     "name": "stdout",
     "output_type": "stream",
     "text": [
      "How many of the URLs in df_a are also in df_b?\n"
     ]
    },
    {
     "data": {
      "text/plain": [
       "True     0.767073\n",
       "False    0.232927\n",
       "dtype: float64"
      ]
     },
     "metadata": {},
     "output_type": "display_data"
    },
    {
     "name": "stdout",
     "output_type": "stream",
     "text": [
      "How many of the images in df_b are also in df_a?\n"
     ]
    },
    {
     "data": {
      "text/plain": [
       "True     0.759012\n",
       "False    0.240988\n",
       "dtype: float64"
      ]
     },
     "metadata": {},
     "output_type": "display_data"
    },
    {
     "name": "stdout",
     "output_type": "stream",
     "text": [
      "How many of the URLs in df_b are also in df_a?\n"
     ]
    },
    {
     "data": {
      "text/plain": [
       "True     0.766458\n",
       "False    0.233542\n",
       "dtype: float64"
      ]
     },
     "metadata": {},
     "output_type": "display_data"
    }
   ],
   "source": [
    "calculate_overlap(rm_df, gg_df)"
   ]
  },
  {
   "cell_type": "markdown",
   "metadata": {},
   "source": [
    "### 2. Thanasis Troboukis"
   ]
  },
  {
   "cell_type": "code",
   "execution_count": 31,
   "metadata": {},
   "outputs": [],
   "source": [
    "tt_df = make_df(read_jsons(\"../validation_output/2/search_results/\"))"
   ]
  },
  {
   "cell_type": "code",
   "execution_count": 32,
   "metadata": {},
   "outputs": [
    {
     "name": "stdout",
     "output_type": "stream",
     "text": [
      "How many of the images in df_a are also in df_b?\n"
     ]
    },
    {
     "data": {
      "text/plain": [
       "True     0.66393\n",
       "False    0.33607\n",
       "dtype: float64"
      ]
     },
     "metadata": {},
     "output_type": "display_data"
    },
    {
     "name": "stdout",
     "output_type": "stream",
     "text": [
      "How many of the URLs in df_a are also in df_b?\n"
     ]
    },
    {
     "data": {
      "text/plain": [
       "True     0.681653\n",
       "False    0.318347\n",
       "dtype: float64"
      ]
     },
     "metadata": {},
     "output_type": "display_data"
    },
    {
     "name": "stdout",
     "output_type": "stream",
     "text": [
      "How many of the images in df_b are also in df_a?\n"
     ]
    },
    {
     "data": {
      "text/plain": [
       "True     0.663209\n",
       "False    0.336791\n",
       "dtype: float64"
      ]
     },
     "metadata": {},
     "output_type": "display_data"
    },
    {
     "name": "stdout",
     "output_type": "stream",
     "text": [
      "How many of the URLs in df_b are also in df_a?\n"
     ]
    },
    {
     "data": {
      "text/plain": [
       "True     0.676583\n",
       "False    0.323417\n",
       "dtype: float64"
      ]
     },
     "metadata": {},
     "output_type": "display_data"
    }
   ],
   "source": [
    "calculate_overlap(rm_df, tt_df)"
   ]
  },
  {
   "cell_type": "markdown",
   "metadata": {},
   "source": [
    "### 3. Vinicius Sueiro"
   ]
  },
  {
   "cell_type": "code",
   "execution_count": 33,
   "metadata": {},
   "outputs": [],
   "source": [
    "vs_df = make_df(read_jsons(\"../validation_output/3/search_results/\"))"
   ]
  },
  {
   "cell_type": "code",
   "execution_count": 34,
   "metadata": {},
   "outputs": [
    {
     "name": "stdout",
     "output_type": "stream",
     "text": [
      "How many of the images in df_a are also in df_b?\n"
     ]
    },
    {
     "data": {
      "text/plain": [
       "True     0.665908\n",
       "False    0.334092\n",
       "dtype: float64"
      ]
     },
     "metadata": {},
     "output_type": "display_data"
    },
    {
     "name": "stdout",
     "output_type": "stream",
     "text": [
      "How many of the URLs in df_a are also in df_b?\n"
     ]
    },
    {
     "data": {
      "text/plain": [
       "True     0.682884\n",
       "False    0.317116\n",
       "dtype: float64"
      ]
     },
     "metadata": {},
     "output_type": "display_data"
    },
    {
     "name": "stdout",
     "output_type": "stream",
     "text": [
      "How many of the images in df_b are also in df_a?\n"
     ]
    },
    {
     "data": {
      "text/plain": [
       "True     0.665316\n",
       "False    0.334684\n",
       "dtype: float64"
      ]
     },
     "metadata": {},
     "output_type": "display_data"
    },
    {
     "name": "stdout",
     "output_type": "stream",
     "text": [
      "How many of the URLs in df_b are also in df_a?\n"
     ]
    },
    {
     "data": {
      "text/plain": [
       "True     0.677337\n",
       "False    0.322663\n",
       "dtype: float64"
      ]
     },
     "metadata": {},
     "output_type": "display_data"
    }
   ],
   "source": [
    "calculate_overlap(rm_df, vs_df)"
   ]
  },
  {
   "cell_type": "code",
   "execution_count": 37,
   "metadata": {},
   "outputs": [
    {
     "name": "stdout",
     "output_type": "stream",
     "text": [
      "How many of the images in df_a are also in df_b?\n"
     ]
    },
    {
     "data": {
      "text/plain": [
       "True     0.936524\n",
       "False    0.063476\n",
       "dtype: float64"
      ]
     },
     "metadata": {},
     "output_type": "display_data"
    },
    {
     "name": "stdout",
     "output_type": "stream",
     "text": [
      "How many of the URLs in df_a are also in df_b?\n"
     ]
    },
    {
     "data": {
      "text/plain": [
       "True     0.942626\n",
       "False    0.057374\n",
       "dtype: float64"
      ]
     },
     "metadata": {},
     "output_type": "display_data"
    },
    {
     "name": "stdout",
     "output_type": "stream",
     "text": [
      "How many of the images in df_b are also in df_a?\n"
     ]
    },
    {
     "data": {
      "text/plain": [
       "True     0.936709\n",
       "False    0.063291\n",
       "dtype: float64"
      ]
     },
     "metadata": {},
     "output_type": "display_data"
    },
    {
     "name": "stdout",
     "output_type": "stream",
     "text": [
      "How many of the URLs in df_b are also in df_a?\n"
     ]
    },
    {
     "data": {
      "text/plain": [
       "True     0.941976\n",
       "False    0.058024\n",
       "dtype: float64"
      ]
     },
     "metadata": {},
     "output_type": "display_data"
    }
   ],
   "source": [
    "calculate_overlap(tt_df, vs_df)"
   ]
  },
  {
   "cell_type": "code",
   "execution_count": null,
   "metadata": {},
   "outputs": [],
   "source": []
  }
 ],
 "metadata": {
  "kernelspec": {
   "display_name": "Python 3",
   "language": "python",
   "name": "python3"
  },
  "language_info": {
   "codemirror_mode": {
    "name": "ipython",
    "version": 3
   },
   "file_extension": ".py",
   "mimetype": "text/x-python",
   "name": "python",
   "nbconvert_exporter": "python",
   "pygments_lexer": "ipython3",
   "version": "3.6.12"
  }
 },
 "nbformat": 4,
 "nbformat_minor": 4
}
